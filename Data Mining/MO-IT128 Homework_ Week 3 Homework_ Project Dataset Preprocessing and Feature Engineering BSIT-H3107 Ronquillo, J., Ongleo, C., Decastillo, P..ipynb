{
 "cells": [
  {
   "cell_type": "code",
   "execution_count": 68,
   "id": "9ddc653c-3b83-421c-9cdf-7f1bf2c41120",
   "metadata": {},
   "outputs": [],
   "source": [
    "import pandas as pd\n"
   ]
  },
  {
   "cell_type": "code",
   "execution_count": 70,
   "id": "1d055d86-0180-4e31-acd9-d1516651a780",
   "metadata": {},
   "outputs": [],
   "source": [
    "import pandas as pd"
   ]
  },
  {
   "cell_type": "code",
   "execution_count": 72,
   "id": "5674cab8-28a3-4a4c-954d-9a8c36356182",
   "metadata": {},
   "outputs": [],
   "source": [
    "import numpy as np"
   ]
  },
  {
   "cell_type": "code",
   "execution_count": 74,
   "id": "8bb014ff-41dc-45c1-8916-a99c5ec360ce",
   "metadata": {},
   "outputs": [],
   "source": [
    "import pandas as pd\n",
    "import numpy as np\n",
    "import matplotlib.pyplot as plt\n",
    "from sklearn.preprocessing import StandardScaler\n",
    "from sklearn.cluster import KMeans"
   ]
  },
  {
   "cell_type": "code",
   "execution_count": 76,
   "id": "f1a55bb8-ae91-4737-9b22-2a9226a14632",
   "metadata": {},
   "outputs": [],
   "source": [
    "import pandas as pd\n",
    "import numpy as np\n",
    "import matplotlib.pyplot as plt\n",
    "from sklearn.preprocessing import StandardScaler\n",
    "from sklearn.cluster import KMeans"
   ]
  },
  {
   "cell_type": "code",
   "execution_count": 87,
   "id": "d53e29e9-bad0-4245-b683-15fee29a103d",
   "metadata": {},
   "outputs": [],
   "source": [
    "path = r\"Datasets\""
   ]
  },
  {
   "cell_type": "code",
   "execution_count": 97,
   "id": "3154cada-406f-4e96-bfa9-a61e2a2d6f04",
   "metadata": {},
   "outputs": [],
   "source": [
    "customer_feedback = pd.read_csv(r\"Datasets\\Customer_Feedback_Data.csv\")\n",
    "product_offering = pd.read_csv(r\"Datasets\\Product_Offering_Data.csv\")\n",
    "transactions = pd.read_csv(r\"Datasets\\Transaction_Data.csv\")"
   ]
  },
  {
   "cell_type": "code",
   "execution_count": 99,
   "id": "60db0e6e-4150-4bd6-94d4-2dcc8ea958ec",
   "metadata": {},
   "outputs": [],
   "source": [
    "# Load the datasets using pandas\n",
    "customer_feedback = pd.read_csv(r\"Datasets\\Customer_Feedback_Data.csv\")\n",
    "product_offering = pd.read_csv(r\"Datasets\\Product_Offering_Data.csv\")\n",
    "transactions = pd.read_csv(r\"Datasets\\Transaction_Data.csv\")"
   ]
  },
  {
   "cell_type": "code",
   "execution_count": 101,
   "id": "66a04cf6-3ae5-40b2-9aa2-52171d26124b",
   "metadata": {},
   "outputs": [
    {
     "name": "stdout",
     "output_type": "stream",
     "text": [
      "Customer_ID                  0\n",
      "Satisfaction_Score         101\n",
      "Feedback_Comments            0\n",
      "Likelihood_to_Recommend      0\n",
      "dtype: int64\n",
      "Product_ID              0\n",
      "Product_Name            0\n",
      "Product_Type            0\n",
      "Risk_Level              0\n",
      "Target_Age_Group       15\n",
      "Target_Income_Group     0\n",
      "dtype: int64\n",
      "Transaction_ID          0\n",
      "Customer_ID             0\n",
      "Transaction_Date        0\n",
      "Transaction_Amount    100\n",
      "Transaction_Type        0\n",
      "dtype: int64\n"
     ]
    }
   ],
   "source": [
    "# Check for missing values\n",
    "print(customer_feedback.isnull().sum())\n",
    "print(product_offering.isnull().sum())\n",
    "print(transactions.isnull().sum())"
   ]
  },
  {
   "cell_type": "code",
   "execution_count": 103,
   "id": "ad65a761-76ab-4f0a-9823-633e3574d872",
   "metadata": {},
   "outputs": [
    {
     "name": "stdout",
     "output_type": "stream",
     "text": [
      "['Customer_ID', 'Satisfaction_Score', 'Feedback_Comments', 'Likelihood_to_Recommend']\n"
     ]
    }
   ],
   "source": [
    "print(customer_feedback.columns.tolist())\n"
   ]
  },
  {
   "cell_type": "code",
   "execution_count": 105,
   "id": "22ed7d30-d3e0-452b-ab29-b41af08ea04d",
   "metadata": {},
   "outputs": [
    {
     "name": "stdout",
     "output_type": "stream",
     "text": [
      "['Customer_ID', 'Satisfaction_Score', 'Feedback_Comments', 'Likelihood_to_Recommend']\n",
      "   Customer_ID  Satisfaction_Score  Feedback_Comments  Likelihood_to_Recommend\n",
      "0            1                10.0     Very satisfied                        9\n",
      "1            2                 3.0     Very satisfied                        3\n",
      "2            3                10.0     Very satisfied                        1\n",
      "3            4                 7.0  Needs improvement                        4\n",
      "4            5                 8.0     Unsatisfactory                        7\n"
     ]
    }
   ],
   "source": [
    "import pandas as pd\n",
    "\n",
    "# Load your dataset\n",
    "path = r\"Datasets\"\n",
    "customer_feedback = pd.read_csv(f\"Datasets\\\\Customer_Feedback_Data.csv\")\n",
    "\n",
    "# Print column names\n",
    "print(customer_feedback.columns.tolist())\n",
    "\n",
    "# Identify numeric columns\n",
    "numeric_columns = ['Satisfaction_Score', 'Likelihood_to_Recommend']\n",
    "\n",
    "# Fill missing values in numeric columns with their mean\n",
    "for column in numeric_columns:\n",
    "    customer_feedback[column] = customer_feedback[column].fillna(customer_feedback[column].mean())\n",
    "\n",
    "# Identify text columns\n",
    "text_columns = ['Feedback_Comments']\n",
    "\n",
    "# Fill missing values in text columns with a placeholder\n",
    "for column in text_columns:\n",
    "    customer_feedback[column] = customer_feedback[column].fillna('Unknown')\n",
    "\n",
    "print(customer_feedback.head())"
   ]
  },
  {
   "cell_type": "code",
   "execution_count": 107,
   "id": "5fbffb80-2d52-40ed-8036-17c5af0a9c12",
   "metadata": {},
   "outputs": [
    {
     "name": "stdout",
     "output_type": "stream",
     "text": [
      "['Product_ID', 'Product_Name', 'Product_Type', 'Risk_Level', 'Target_Age_Group', 'Target_Income_Group']\n",
      "   Product_ID                   Product_Name     Product_Type Risk_Level  \\\n",
      "0           1           Platinum Credit Card      Credit Card     Medium   \n",
      "1           2           Gold Savings Account  Savings Account        Low   \n",
      "2           3  High-Yield Investment Account       Investment       High   \n",
      "3           4                  Mortgage Loan             Loan     Medium   \n",
      "4           5                      Auto Loan             Loan     Medium   \n",
      "\n",
      "   Target_Age_Group Target_Income_Group  \n",
      "0               NaN              Medium  \n",
      "1               NaN                 Low  \n",
      "2               NaN                High  \n",
      "3               NaN                High  \n",
      "4               NaN              Medium  \n"
     ]
    }
   ],
   "source": [
    "import pandas as pd\n",
    "\n",
    "# Load the Product Offering dataset\n",
    "path = r\"Datasets\"\n",
    "product_offering = pd.read_csv(f\"Datasets\\\\Product_Offering_Data.csv\")\n",
    "\n",
    "# Print column names\n",
    "print(product_offering.columns.tolist())\n",
    "\n",
    "# Example: Fill missing values in numeric columns\n",
    "numeric_columns = []  # List numeric columns here\n",
    "for column in numeric_columns:\n",
    "    product_offering[column] = product_offering[column].fillna(product_offering[column].mean())\n",
    "\n",
    "# Example: Fill missing values in text columns\n",
    "text_columns = []  # List text columns here\n",
    "for column in text_columns:\n",
    "    product_offering[column] = product_offering[column].fillna('Unknown')\n",
    "\n",
    "print(product_offering.head())"
   ]
  },
  {
   "cell_type": "code",
   "execution_count": 109,
   "id": "effb8056-b8f3-4984-9cab-5e831fd0e02c",
   "metadata": {},
   "outputs": [
    {
     "name": "stdout",
     "output_type": "stream",
     "text": [
      "['Transaction_ID', 'Customer_ID', 'Transaction_Date', 'Transaction_Amount', 'Transaction_Type']\n",
      "   Transaction_ID  Customer_ID     Transaction_Date  Transaction_Amount  \\\n",
      "0               1          393  2023-01-01 00:00:00              3472.0   \n",
      "1               2          826  2023-01-01 01:00:00                 NaN   \n",
      "2               3          916  2023-01-01 02:00:00                10.0   \n",
      "3               4          109  2023-01-01 03:00:00                72.0   \n",
      "4               5          889  2023-01-01 04:00:00              1793.0   \n",
      "\n",
      "  Transaction_Type  \n",
      "0         Purchase  \n",
      "1     Bill Payment  \n",
      "2         Purchase  \n",
      "3       Investment  \n",
      "4       Investment  \n"
     ]
    }
   ],
   "source": [
    "import pandas as pd\n",
    "\n",
    "# Load the transaction dataset\n",
    "path = r\"Datasets\"\n",
    "transactions = pd.read_csv(f\"Datasets\\\\Transaction_Data.csv\")\n",
    "\n",
    "# Print column names\n",
    "print(transactions.columns.tolist())\n",
    "\n",
    "# Example: Fill missing values in numeric columns\n",
    "numeric_columns = []  # List numeric columns here\n",
    "for column in numeric_columns:\n",
    "    transactions[column] = transactions[column].fillna(transactions[column].mean())\n",
    "\n",
    "# Example: Fill missing values in text columns\n",
    "text_columns = []  # List text columns here\n",
    "for column in text_columns:\n",
    "    transactions[column] = transactions[column].fillna('Unknown')\n",
    "\n",
    "print(transactions.head())"
   ]
  },
  {
   "cell_type": "code",
   "execution_count": null,
   "id": "ff638972-693a-42cf-a703-66a4a0cabebe",
   "metadata": {},
   "outputs": [],
   "source": []
  },
  {
   "cell_type": "code",
   "execution_count": null,
   "id": "10fce5f7-04e1-4d45-8f30-7bd57d0f940f",
   "metadata": {},
   "outputs": [],
   "source": []
  }
 ],
 "metadata": {
  "kernelspec": {
   "display_name": "Python 3 (ipykernel)",
   "language": "python",
   "name": "python3"
  },
  "language_info": {
   "codemirror_mode": {
    "name": "ipython",
    "version": 3
   },
   "file_extension": ".py",
   "mimetype": "text/x-python",
   "name": "python",
   "nbconvert_exporter": "python",
   "pygments_lexer": "ipython3",
   "version": "3.12.4"
  }
 },
 "nbformat": 4,
 "nbformat_minor": 5
}
